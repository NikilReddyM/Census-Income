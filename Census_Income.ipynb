{
  "nbformat": 4,
  "nbformat_minor": 0,
  "metadata": {
    "colab": {
      "name": "Census_Income.ipynb",
      "provenance": []
    },
    "kernelspec": {
      "name": "python3",
      "display_name": "Python 3"
    }
  },
  "cells": [
    {
      "cell_type": "markdown",
      "metadata": {
        "id": "Sx-52H4R2xm8",
        "colab_type": "text"
      },
      "source": [
        "### basic implementation of tensorflow estimator"
      ]
    },
    {
      "cell_type": "code",
      "metadata": {
        "id": "wxyLvqA6Qr47",
        "colab_type": "code",
        "colab": {}
      },
      "source": [
        "import numpy as np\n",
        "import pandas as pd\n",
        "import matplotlib.pyplot as plt\n",
        "%matplotlib inline\n",
        "import seaborn as sns\n",
        "import tempfile\n",
        "import tensorflow as tf"
      ],
      "execution_count": 0,
      "outputs": []
    },
    {
      "cell_type": "code",
      "metadata": {
        "id": "LnEIWNgnR7iT",
        "colab_type": "code",
        "colab": {}
      },
      "source": [
        "COLUMNS = [\"age\", \"workclass\", \"fnlwgt\", \"education\", \"education_num\",\n",
        "           \"marital_status\", \"occupation\", \"relationship\", \"race\", \"gender\",\n",
        "           \"capital_gain\", \"capital_loss\", \"hours_per_week\", \"native_country\",\n",
        "           \"income_bracket\"]\n",
        "\n",
        "train_df = pd.read_csv(\n",
        "    \"https://archive.ics.uci.edu/ml/machine-learning-databases/adult/adult.data\",\n",
        "    names=COLUMNS,\n",
        "    sep=r'\\s*,\\s*',\n",
        "    engine=\"python\",\n",
        "    na_values=\"?\")\n",
        "\n",
        "test_df = pd.read_csv(\n",
        "  \"https://archive.ics.uci.edu/ml/machine-learning-databases/adult/adult.test\",\n",
        "    names=COLUMNS,\n",
        "    sep=r'\\s*,\\s*',\n",
        "    engine=\"python\",\n",
        "    na_values=\"?\",\n",
        "    skiprows=[0])"
      ],
      "execution_count": 0,
      "outputs": []
    },
    {
      "cell_type": "code",
      "metadata": {
        "id": "pW-5t8HESRni",
        "colab_type": "code",
        "colab": {}
      },
      "source": [
        "train_df = train_df.dropna(how=\"any\",axis=0)\n",
        "test_df = test_df.dropna(how=\"any\",axis=0)"
      ],
      "execution_count": 0,
      "outputs": []
    },
    {
      "cell_type": "markdown",
      "metadata": {
        "id": "j5A_KsVKZTs2",
        "colab_type": "text"
      },
      "source": [
        "define input function"
      ]
    },
    {
      "cell_type": "code",
      "metadata": {
        "id": "N-WOPl_AYehN",
        "colab_type": "code",
        "colab": {}
      },
      "source": [
        "def input_fn(data, batch_size=100, num_epochs=1, shuffle=False):\n",
        "  return tf.estimator.inputs.pandas_input_fn(\n",
        "      x=data.drop('income_bracket', axis=1),\n",
        "      y=data['income_bracket'].apply(lambda x: \">50K\" in x).astype(int),\n",
        "      batch_size=batch_size,#number of times we update internal parameters\n",
        "      num_epochs=num_epochs,#number of times total dataset should be processed, if number of epochs is 3 then total dataset is processed 3 times\n",
        "      shuffle=shuffle,\n",
        "      num_threads=1)\n",
        "\n",
        "\"\"\"\n",
        "for example- \n",
        "if dataset contains 1000 rows, with batch size of 100 and number of epochs is 5. \n",
        "then we pass data of batch size 50 times to train the model and update parameters each time.\n",
        "\n",
        "number of times we pass data to model = ((dataset size)/(batch size))*(number of epochs)\n",
        "\"\"\""
      ],
      "execution_count": 0,
      "outputs": []
    },
    {
      "cell_type": "markdown",
      "metadata": {
        "id": "pLB5eq5HbHY2",
        "colab_type": "text"
      },
      "source": [
        "define feature columns"
      ]
    },
    {
      "cell_type": "markdown",
      "metadata": {
        "id": "MKAsAEGdbN1Y",
        "colab_type": "text"
      },
      "source": [
        "numerical columns are - \"capital_gain\", \"capital_loss\", \"hours_per_week\",  \"age\", \"fnlwgt\", \"education_num\""
      ]
    },
    {
      "cell_type": "code",
      "metadata": {
        "id": "B9gHJMNSbAAr",
        "colab_type": "code",
        "colab": {}
      },
      "source": [
        "age = tf.feature_column.numeric_column(\"age\")\n",
        "fnlwgt = tf.feature_column.numeric_column(\"fnlwgt\")\n",
        "capital_gain = tf.feature_column.numeric_column(\"capital_gain\")\n",
        "capital_loss = tf.feature_column.numeric_column(\"capital_loss\")\n",
        "hours_per_week = tf.feature_column.numeric_column(\"hours_per_week\")\n",
        "age = tf.feature_column.numeric_column(\"age\")"
      ],
      "execution_count": 0,
      "outputs": []
    },
    {
      "cell_type": "markdown",
      "metadata": {
        "id": "7RQaXUTCdVAa",
        "colab_type": "text"
      },
      "source": [
        "categorical coluumns - \"workclass\", \"education\", \"marital_status\", \"occupation\", \"relationship\", \"race\", \"gender\", \"native_country\""
      ]
    },
    {
      "cell_type": "code",
      "metadata": {
        "id": "5q0WbRf0dTX_",
        "colab_type": "code",
        "colab": {}
      },
      "source": [
        "workclass = tf.feature_column.categorical_column_with_vocabulary_list(\"workclass\",['Federal-gov', 'Local-gov', 'Private', 'Self-emp-inc','Self-emp-not-inc', 'State-gov', 'Without-pay'])\n",
        "\n",
        "education = tf.feature_column.categorical_column_with_vocabulary_list(\"education\",\n",
        "                      ['10th', '11th', '12th', '1st-4th', '5th-6th', '7th-8th', '9th','Assoc-acdm', 'Assoc-voc', 'Bachelors', 'Doctorate', 'HS-grad',\n",
        "                       'Masters', 'Preschool', 'Prof-school', 'Some-college'])\n",
        "\n",
        "marital_status = tf.feature_column.categorical_column_with_vocabulary_list(\"marital_status\",\n",
        "                       ['Divorced', 'Married-AF-spouse', 'Married-civ-spouse','Married-spouse-absent', 'Never-married', 'Separated', 'Widowed'])\n",
        "\n",
        "\n",
        "occupation = tf.feature_column.categorical_column_with_hash_bucket(\"occupation\", hash_bucket_size=1000)\n",
        "\n",
        "relationship = tf.feature_column.categorical_column_with_vocabulary_list(\"relationship\",\n",
        "                        ['Husband', 'Not-in-family', 'Other-relative', 'Own-child','Unmarried', 'Wife'])\n",
        "\n",
        "race = tf.feature_column.categorical_column_with_vocabulary_list(\"race\",['Amer-Indian-Eskimo', 'Asian-Pac-Islander', 'Black', 'Other','White'])\n",
        "\n",
        "gender = tf.feature_column.categorical_column_with_vocabulary_list(\"gender\",['Female', 'Male'])\n",
        "\n",
        "native_country = tf.feature_column.categorical_column_with_hash_bucket(\"native_country\",hash_bucket_size=1000)\n"
      ],
      "execution_count": 0,
      "outputs": []
    },
    {
      "cell_type": "markdown",
      "metadata": {
        "id": "rCokmuD0x4YR",
        "colab_type": "text"
      },
      "source": [
        "transforming age from numerical to categorical using buckets"
      ]
    },
    {
      "cell_type": "code",
      "metadata": {
        "id": "Mn8fanZnve7k",
        "colab_type": "code",
        "colab": {}
      },
      "source": [
        "age_buckets = tf.feature_column.bucketized_column(age, boundaries=[18, 25, 30, 35, 40, 45, 50, 55, 60, 65])"
      ],
      "execution_count": 0,
      "outputs": []
    },
    {
      "cell_type": "markdown",
      "metadata": {
        "id": "zSkJ1KRXyenk",
        "colab_type": "text"
      },
      "source": [
        "define which columns to use for processing and at the same time converting categorical variables to numerical using one-hot encoding and n-hot encoding"
      ]
    },
    {
      "cell_type": "code",
      "metadata": {
        "id": "POKr01XEx3TM",
        "colab_type": "code",
        "colab": {}
      },
      "source": [
        "deep_columns = [\n",
        "    tf.feature_column.indicator_column(workclass),\n",
        "    tf.feature_column.indicator_column(education),\n",
        "    tf.feature_column.indicator_column(age_buckets),\n",
        "    tf.feature_column.indicator_column(gender),\n",
        "    tf.feature_column.indicator_column(relationship),\n",
        "    tf.feature_column.embedding_column(native_country,dimension=8),\n",
        "    tf.feature_column.embedding_column(occupation,dimension=8)\n",
        "]"
      ],
      "execution_count": 0,
      "outputs": []
    },
    {
      "cell_type": "code",
      "metadata": {
        "id": "x-MDXLvD1G7E",
        "colab_type": "code",
        "colab": {
          "base_uri": "https://localhost:8080/",
          "height": 54
        },
        "outputId": "f4410728-6890-4c0b-9a1b-d064eeaa2005"
      },
      "source": [
        "print(deep_columns)"
      ],
      "execution_count": 10,
      "outputs": [
        {
          "output_type": "stream",
          "text": [
            "[IndicatorColumn(categorical_column=VocabularyListCategoricalColumn(key='workclass', vocabulary_list=('Federal-gov', 'Local-gov', 'Private', 'Self-emp-inc', 'Self-emp-not-inc', 'State-gov', 'Without-pay'), dtype=tf.string, default_value=-1, num_oov_buckets=0)), IndicatorColumn(categorical_column=VocabularyListCategoricalColumn(key='education', vocabulary_list=('10th', '11th', '12th', '1st-4th', '5th-6th', '7th-8th', '9th', 'Assoc-acdm', 'Assoc-voc', 'Bachelors', 'Doctorate', 'HS-grad', 'Masters', 'Preschool', 'Prof-school', 'Some-college'), dtype=tf.string, default_value=-1, num_oov_buckets=0)), IndicatorColumn(categorical_column=BucketizedColumn(source_column=NumericColumn(key='age', shape=(1,), default_value=None, dtype=tf.float32, normalizer_fn=None), boundaries=(18, 25, 30, 35, 40, 45, 50, 55, 60, 65))), IndicatorColumn(categorical_column=VocabularyListCategoricalColumn(key='gender', vocabulary_list=('Female', 'Male'), dtype=tf.string, default_value=-1, num_oov_buckets=0)), IndicatorColumn(categorical_column=VocabularyListCategoricalColumn(key='relationship', vocabulary_list=('Husband', 'Not-in-family', 'Other-relative', 'Own-child', 'Unmarried', 'Wife'), dtype=tf.string, default_value=-1, num_oov_buckets=0)), EmbeddingColumn(categorical_column=HashedCategoricalColumn(key='native_country', hash_bucket_size=1000, dtype=tf.string), dimension=8, combiner='mean', initializer=<tensorflow.python.ops.init_ops.TruncatedNormal object at 0x7fc59355f8d0>, ckpt_to_load_from=None, tensor_name_in_ckpt=None, max_norm=None, trainable=True), EmbeddingColumn(categorical_column=HashedCategoricalColumn(key='occupation', hash_bucket_size=1000, dtype=tf.string), dimension=8, combiner='mean', initializer=<tensorflow.python.ops.init_ops.TruncatedNormal object at 0x7fc59355f5f8>, ckpt_to_load_from=None, tensor_name_in_ckpt=None, max_norm=None, trainable=True)]\n"
          ],
          "name": "stdout"
        }
      ]
    },
    {
      "cell_type": "markdown",
      "metadata": {
        "id": "HotvPMo71jzY",
        "colab_type": "text"
      },
      "source": [
        "define neural network model"
      ]
    },
    {
      "cell_type": "code",
      "metadata": {
        "id": "jLTXHJgW1KcD",
        "colab_type": "code",
        "colab": {
          "base_uri": "https://localhost:8080/",
          "height": 173
        },
        "outputId": "93e5b1d0-9c33-416c-ecf4-bfa98d07d36c"
      },
      "source": [
        "HIDDEN_UNITS = [1024, 512] #@param\n",
        "LEARNING_RATE = 0.1 #@param\n",
        "L1_REGULARIZATION_STRENGTH = 0.0001 #@param\n",
        "L2_REGULARIZATION_STRENGTH = 0.0001 #@param\n",
        "\n",
        "model_dir = tempfile.mkdtemp()\n",
        "model = tf.estimator.DNNClassifier(\n",
        "    feature_columns=deep_columns,\n",
        "    hidden_units=HIDDEN_UNITS,\n",
        "    optimizer=tf.train.ProximalAdagradOptimizer(\n",
        "      learning_rate=LEARNING_RATE,\n",
        "      l1_regularization_strength=L1_REGULARIZATION_STRENGTH,\n",
        "      l2_regularization_strength=L2_REGULARIZATION_STRENGTH),\n",
        "    model_dir=model_dir)\n"
      ],
      "execution_count": 13,
      "outputs": [
        {
          "output_type": "stream",
          "text": [
            "INFO:tensorflow:Using default config.\n",
            "INFO:tensorflow:Using config: {'_model_dir': '/tmp/tmpvi02mbmj', '_tf_random_seed': None, '_save_summary_steps': 100, '_save_checkpoints_steps': None, '_save_checkpoints_secs': 600, '_session_config': allow_soft_placement: true\n",
            "graph_options {\n",
            "  rewrite_options {\n",
            "    meta_optimizer_iterations: ONE\n",
            "  }\n",
            "}\n",
            ", '_keep_checkpoint_max': 5, '_keep_checkpoint_every_n_hours': 10000, '_log_step_count_steps': 100, '_train_distribute': None, '_device_fn': None, '_protocol': None, '_eval_distribute': None, '_experimental_distribute': None, '_experimental_max_worker_delay_secs': None, '_service': None, '_cluster_spec': <tensorflow.python.training.server_lib.ClusterSpec object at 0x7fc59182e4a8>, '_task_type': 'worker', '_task_id': 0, '_global_id_in_cluster': 0, '_master': '', '_evaluation_master': '', '_is_chief': True, '_num_ps_replicas': 0, '_num_worker_replicas': 1}\n"
          ],
          "name": "stdout"
        }
      ]
    },
    {
      "cell_type": "markdown",
      "metadata": {
        "id": "U7uwY4Or8NCB",
        "colab_type": "text"
      },
      "source": [
        "train the model"
      ]
    },
    {
      "cell_type": "code",
      "metadata": {
        "id": "PLVSwdP18js-",
        "colab_type": "code",
        "colab": {
          "base_uri": "https://localhost:8080/",
          "height": 1000
        },
        "outputId": "09ee2255-ef8e-401c-d126-e08f3e0b9538"
      },
      "source": [
        "STEPS = 1000 #@param\n",
        "\n",
        "model.train(\n",
        "    input_fn=input_fn(train_df, num_epochs=None, shuffle=True),\n",
        "    steps=STEPS);"
      ],
      "execution_count": 15,
      "outputs": [
        {
          "output_type": "stream",
          "text": [
            "WARNING:tensorflow:From /usr/local/lib/python3.6/dist-packages/tensorflow/python/training/training_util.py:236: Variable.initialized_value (from tensorflow.python.ops.variables) is deprecated and will be removed in a future version.\n",
            "Instructions for updating:\n",
            "Use Variable.read_value. Variables in 2.X are initialized automatically both in eager and graph (inside tf.defun) contexts.\n",
            "WARNING:tensorflow:From /usr/local/lib/python3.6/dist-packages/tensorflow_estimator/python/estimator/inputs/queues/feeding_queue_runner.py:62: QueueRunner.__init__ (from tensorflow.python.training.queue_runner_impl) is deprecated and will be removed in a future version.\n",
            "Instructions for updating:\n",
            "To construct input pipelines, use the `tf.data` module.\n",
            "WARNING:tensorflow:From /usr/local/lib/python3.6/dist-packages/tensorflow_estimator/python/estimator/inputs/queues/feeding_functions.py:500: add_queue_runner (from tensorflow.python.training.queue_runner_impl) is deprecated and will be removed in a future version.\n",
            "Instructions for updating:\n",
            "To construct input pipelines, use the `tf.data` module.\n",
            "INFO:tensorflow:Calling model_fn.\n",
            "WARNING:tensorflow:From /usr/local/lib/python3.6/dist-packages/tensorflow/python/ops/init_ops.py:1251: calling VarianceScaling.__init__ (from tensorflow.python.ops.init_ops) with dtype is deprecated and will be removed in a future version.\n",
            "Instructions for updating:\n",
            "Call initializer instance with the dtype argument instead of passing it to the constructor\n",
            "WARNING:tensorflow:From /usr/local/lib/python3.6/dist-packages/tensorflow/python/feature_column/feature_column_v2.py:3038: HashedCategoricalColumn._num_buckets (from tensorflow.python.feature_column.feature_column_v2) is deprecated and will be removed in a future version.\n",
            "Instructions for updating:\n",
            "The old _FeatureColumn APIs are being deprecated. Please use the new FeatureColumn APIs instead.\n",
            "WARNING:tensorflow:From /usr/local/lib/python3.6/dist-packages/tensorflow/python/feature_column/feature_column_v2.py:4207: IndicatorColumn._variable_shape (from tensorflow.python.feature_column.feature_column_v2) is deprecated and will be removed in a future version.\n",
            "Instructions for updating:\n",
            "The old _FeatureColumn APIs are being deprecated. Please use the new FeatureColumn APIs instead.\n",
            "WARNING:tensorflow:From /usr/local/lib/python3.6/dist-packages/tensorflow/python/feature_column/feature_column_v2.py:4262: BucketizedColumn._num_buckets (from tensorflow.python.feature_column.feature_column_v2) is deprecated and will be removed in a future version.\n",
            "Instructions for updating:\n",
            "The old _FeatureColumn APIs are being deprecated. Please use the new FeatureColumn APIs instead.\n",
            "WARNING:tensorflow:From /usr/local/lib/python3.6/dist-packages/tensorflow/python/feature_column/feature_column_v2.py:2655: add_dispatch_support.<locals>.wrapper (from tensorflow.python.ops.array_ops) is deprecated and will be removed in a future version.\n",
            "Instructions for updating:\n",
            "Use tf.where in 2.0, which has the same broadcast rule as np.where\n",
            "WARNING:tensorflow:From /usr/local/lib/python3.6/dist-packages/tensorflow/python/feature_column/feature_column_v2.py:4262: VocabularyListCategoricalColumn._num_buckets (from tensorflow.python.feature_column.feature_column_v2) is deprecated and will be removed in a future version.\n",
            "Instructions for updating:\n",
            "The old _FeatureColumn APIs are being deprecated. Please use the new FeatureColumn APIs instead.\n",
            "WARNING:tensorflow:From /usr/local/lib/python3.6/dist-packages/tensorflow_estimator/python/estimator/canned/head.py:437: to_float (from tensorflow.python.ops.math_ops) is deprecated and will be removed in a future version.\n",
            "Instructions for updating:\n",
            "Use `tf.cast` instead.\n",
            "INFO:tensorflow:Done calling model_fn.\n",
            "INFO:tensorflow:Create CheckpointSaverHook.\n",
            "INFO:tensorflow:Graph was finalized.\n",
            "INFO:tensorflow:Running local_init_op.\n",
            "INFO:tensorflow:Done running local_init_op.\n",
            "WARNING:tensorflow:From /usr/local/lib/python3.6/dist-packages/tensorflow/python/training/monitored_session.py:875: start_queue_runners (from tensorflow.python.training.queue_runner_impl) is deprecated and will be removed in a future version.\n",
            "Instructions for updating:\n",
            "To construct input pipelines, use the `tf.data` module.\n",
            "INFO:tensorflow:Saving checkpoints for 0 into /tmp/tmpvi02mbmj/model.ckpt.\n",
            "INFO:tensorflow:loss = 71.537704, step = 1\n",
            "INFO:tensorflow:global_step/sec: 47.0402\n",
            "INFO:tensorflow:loss = 40.788414, step = 101 (2.128 sec)\n",
            "INFO:tensorflow:global_step/sec: 49.2933\n",
            "INFO:tensorflow:loss = 31.408514, step = 201 (2.029 sec)\n",
            "INFO:tensorflow:global_step/sec: 52.2012\n",
            "INFO:tensorflow:loss = 29.073334, step = 301 (1.915 sec)\n",
            "INFO:tensorflow:global_step/sec: 49.8716\n",
            "INFO:tensorflow:loss = 26.845798, step = 401 (2.004 sec)\n",
            "INFO:tensorflow:global_step/sec: 53.0023\n",
            "INFO:tensorflow:loss = 39.020634, step = 501 (1.887 sec)\n",
            "INFO:tensorflow:global_step/sec: 49.0463\n",
            "INFO:tensorflow:loss = 26.198006, step = 601 (2.043 sec)\n",
            "INFO:tensorflow:global_step/sec: 52.4791\n",
            "INFO:tensorflow:loss = 41.96103, step = 701 (1.901 sec)\n",
            "INFO:tensorflow:global_step/sec: 49.829\n",
            "INFO:tensorflow:loss = 31.520395, step = 801 (2.007 sec)\n",
            "INFO:tensorflow:global_step/sec: 52.2979\n",
            "INFO:tensorflow:loss = 29.710482, step = 901 (1.915 sec)\n",
            "INFO:tensorflow:Saving checkpoints for 1000 into /tmp/tmpvi02mbmj/model.ckpt.\n",
            "INFO:tensorflow:Loss for final step: 34.86118.\n"
          ],
          "name": "stdout"
        }
      ]
    },
    {
      "cell_type": "markdown",
      "metadata": {
        "id": "5mOSbhRq2UhT",
        "colab_type": "text"
      },
      "source": [
        "evaluate the results"
      ]
    },
    {
      "cell_type": "code",
      "metadata": {
        "id": "5X4QGYRh2POx",
        "colab_type": "code",
        "colab": {
          "base_uri": "https://localhost:8080/",
          "height": 564
        },
        "outputId": "1bcb4499-8925-43e2-a997-22a9c07d4178"
      },
      "source": [
        "results = model.evaluate(\n",
        "    input_fn=input_fn(test_df, num_epochs=1, shuffle=False),\n",
        "    steps=None)\n",
        "print(\"model directory = %s\" % model_dir)\n",
        "print(\"---- Results ----\")\n",
        "for key in sorted(results):\n",
        "  print(\"%s: %s\" % (key, results[key]))"
      ],
      "execution_count": 17,
      "outputs": [
        {
          "output_type": "stream",
          "text": [
            "INFO:tensorflow:Calling model_fn.\n",
            "WARNING:tensorflow:From /usr/local/lib/python3.6/dist-packages/tensorflow/python/ops/metrics_impl.py:2027: div (from tensorflow.python.ops.math_ops) is deprecated and will be removed in a future version.\n",
            "Instructions for updating:\n",
            "Deprecated in favor of operator or tf.math.divide.\n",
            "WARNING:tensorflow:Trapezoidal rule is known to produce incorrect PR-AUCs; please switch to \"careful_interpolation\" instead.\n",
            "WARNING:tensorflow:Trapezoidal rule is known to produce incorrect PR-AUCs; please switch to \"careful_interpolation\" instead.\n",
            "INFO:tensorflow:Done calling model_fn.\n",
            "INFO:tensorflow:Starting evaluation at 2019-09-27T17:52:01Z\n",
            "INFO:tensorflow:Graph was finalized.\n",
            "WARNING:tensorflow:From /usr/local/lib/python3.6/dist-packages/tensorflow/python/training/saver.py:1276: checkpoint_exists (from tensorflow.python.training.checkpoint_management) is deprecated and will be removed in a future version.\n",
            "Instructions for updating:\n",
            "Use standard file APIs to check for files with this prefix.\n",
            "INFO:tensorflow:Restoring parameters from /tmp/tmpvi02mbmj/model.ckpt-1000\n",
            "INFO:tensorflow:Running local_init_op.\n",
            "INFO:tensorflow:Done running local_init_op.\n",
            "INFO:tensorflow:Finished evaluation at 2019-09-27-17:52:02\n",
            "INFO:tensorflow:Saving dict for global step 1000: accuracy = 0.8322709, accuracy_baseline = 0.7543161, auc = 0.88452756, auc_precision_recall = 0.70659107, average_loss = 0.35925642, global_step = 1000, label/mean = 0.24568394, loss = 35.830475, precision = 0.6706395, prediction/mean = 0.25969675, recall = 0.6235135\n",
            "INFO:tensorflow:Saving 'checkpoint_path' summary for global step 1000: /tmp/tmpvi02mbmj/model.ckpt-1000\n",
            "model directory = /tmp/tmpvi02mbmj\n",
            "---- Results ----\n",
            "accuracy: 0.8322709\n",
            "accuracy_baseline: 0.7543161\n",
            "auc: 0.88452756\n",
            "auc_precision_recall: 0.70659107\n",
            "average_loss: 0.35925642\n",
            "global_step: 1000\n",
            "label/mean: 0.24568394\n",
            "loss: 35.830475\n",
            "precision: 0.6706395\n",
            "prediction/mean: 0.25969675\n",
            "recall: 0.6235135\n"
          ],
          "name": "stdout"
        }
      ]
    },
    {
      "cell_type": "code",
      "metadata": {
        "id": "dwJL0F0aCYrn",
        "colab_type": "code",
        "colab": {}
      },
      "source": [
        ""
      ],
      "execution_count": 0,
      "outputs": []
    }
  ]
}